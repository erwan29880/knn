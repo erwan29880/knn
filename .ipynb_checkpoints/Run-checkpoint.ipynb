{
 "cells": [
  {
   "cell_type": "markdown",
   "id": "bf08b00f",
   "metadata": {},
   "source": [
    "# Test De personnalité"
   ]
  },
  {
   "cell_type": "markdown",
   "id": "d18356d0",
   "metadata": {},
   "source": [
    "Comment réagissez-vous sous la pression ?"
   ]
  },
  {
   "cell_type": "raw",
   "id": "95851230",
   "metadata": {},
   "source": [
    "Choisissez parmi les trois alternatives possibles, celle qui, personnellement, répond le mieux à la question ou à l’affirmation présentée dans l’énoncé."
   ]
  },
  {
   "cell_type": "code",
   "execution_count": 1,
   "id": "1599264e",
   "metadata": {},
   "outputs": [
    {
     "name": "stdout",
     "output_type": "stream",
     "text": [
      "Question 1 :\n",
      "Quelle importance accordez-vous au succès ?\n",
      "\n",
      "(a)Une importance moyenne.\n",
      "(b)Une très grande importance.\n",
      "(c)Le succès ne me préoccupe pas beaucoup.\n",
      "a\n",
      "\n",
      "Question 2 :\n",
      "Vous est-il déjà arrivé de prendre des jours de congé parce que vous étiez stressé(e) ?\n",
      "\n",
      "(a)Une ou deux fois.\n",
      "(b)Plus de deux fois.\n",
      "(c)Jamais.\n",
      "a\n",
      "\n",
      "Question 3 :\n",
      "Vous considère-t-on comme une personne sachant conserver son sang froid en période de crise ?\n",
      "\n",
      "(a)Parfois, mais ceux qui arrivent à garder la tête froide en période de crise n’ont généralement pas saisi la gravité de la situation.\n",
      "(b)Pas vraiment.\n",
      "(c)Oui, je pense être à juste titre perçu(e) ainsi.\n",
      "a\n",
      "\n",
      "Question 4 :\n",
      "Parmi les propositions suivantes, laquelle est la plus à même de vous détendre et de réduire votre stress après une journée particulièrement éprouvante ?\n",
      "\n",
      "(a)Quelques heures de sommeil dans ma chaise longue préférée.\n",
      "(b)Une bonne rasade de whiskey ou d’un autre alcool.\n",
      "(c)Une barre chocolatée.\n",
      "a\n",
      "\n",
      "Question 5 :\n",
      "Les délais vous stimulent-ils ?\n",
      "\n",
      "(a)Non, mais les délais sont un mal nécessaire avec lequel il faut apprendre à vivre.\n",
      "(b)Non, les délais ont tendance à me stresser et je préfère travailler à mon rythme.Oui, je pense que je travaille mieux quand je suis sous pression.\n",
      "a\n",
      "\n",
      "Question 6 :\n",
      "Pensez-vous que la vie actuelle génère plus de stress qu’il y a 40 ans ?\n",
      "\n",
      "(1)Peut-être.\n",
      "(2)Oui.\n",
      "(3)Non.\n",
      "1\n",
      "\n",
      "Question 7 :\n",
      "Votre neveu vous demande de garder ses trois enfants un peu turbulents pendant le week-end en raison d’une crise familiale. Comment envisagez-vous cette situation ?\n",
      "\n",
      "(1)Cela m’inquiète terriblement.\n",
      "(2)L’idée de garder ces trois enfants me terrifie à un point tel que je chercherai probablement un moyen d’y échapper.\n",
      "(3)C’est un nouveau défi que je relèverai avec plaisir.\n",
      "1\n",
      "\n",
      "Question 8 :\n",
      "Le stress vous a-t-il déjà conduit(e) à endommager des choses ?\n",
      "\n",
      "(1)Non, je n’ai jamais rien fait de tel mais il m’est déjà arrivé de raccrocher brutalement le téléphone.\n",
      "(2)Oui.\n",
      "(3)Non.\n",
      "1\n",
      "\n",
      "Question 9 :\n",
      "Vous arrive-t-il d’être ennuyé(e) par des petits riens ?\n",
      "\n",
      "(1)Oui, parfois.\n",
      "(2)Assez souvent.\n",
      "(3)Rarement voire jamais.\n",
      "1\n",
      "\n",
      "Question 10 :\n",
      "Que ressentiriez-vous si vous deviez vous familiariser avec une nouvelle technologie ?\n",
      "\n",
      "(1)Rien de particulier. Si je devais me familiariser avec un nouvel outil de travail pour des raisons professionnelles, je m’adapterais sans difficulté.\n",
      "(2)Cela m’inquièterait un peu.\n",
      "(3)J’aime apprendre des choses nouvelles, je trouve cela très intéressant.\n",
      "1\n",
      "\n",
      "Votre Score est :  10 \n",
      "\n",
      "-----------------------------------------\n",
      "\n",
      "--------- Interprétation final ---------\n",
      "\n",
      "-----------------------------------------\n",
      "Score entre 11 et 14 : \n",
      "\n",
      "Même s’il vous arrive d’être tendu(e) et stressé(e) en certaines occasions, vous semblez donc capable de prendre soin de vous-même et de dire non aux requêtes déraisonnables.\n",
      "-----------------------------------------\n",
      "\n"
     ]
    },
    {
     "ename": "OSError",
     "evalue": "[Errno 22] Invalid argument: './DataSet/DataSet__ƫĒ\\x01__.csv'",
     "output_type": "error",
     "traceback": [
      "\u001b[1;31m---------------------------------------------------------------------------\u001b[0m",
      "\u001b[1;31mOSError\u001b[0m                                   Traceback (most recent call last)",
      "\u001b[1;32m~\\Documents\\Briefs\\knn\\Test.py\u001b[0m in \u001b[0;36m<module>\u001b[1;34m\u001b[0m\n\u001b[0;32m    110\u001b[0m      \u001b[1;32mreturn\u001b[0m \u001b[0mprint\u001b[0m\u001b[1;33m(\u001b[0m\u001b[0mdf\u001b[0m\u001b[1;33m)\u001b[0m\u001b[1;33m\u001b[0m\u001b[1;33m\u001b[0m\u001b[0m\n\u001b[0;32m    111\u001b[0m \u001b[1;33m\u001b[0m\u001b[0m\n\u001b[1;32m--> 112\u001b[1;33m \u001b[0mrun_quiz\u001b[0m\u001b[1;33m(\u001b[0m\u001b[0mquestions\u001b[0m\u001b[1;33m,\u001b[0m \u001b[0mInterpretation\u001b[0m\u001b[1;33m)\u001b[0m\u001b[1;33m\u001b[0m\u001b[1;33m\u001b[0m\u001b[0m\n\u001b[0m\u001b[0;32m    113\u001b[0m \u001b[1;33m\u001b[0m\u001b[0m\n\u001b[0;32m    114\u001b[0m \u001b[1;33m\u001b[0m\u001b[0m\n",
      "\u001b[1;32m~\\Documents\\Briefs\\knn\\Test.py\u001b[0m in \u001b[0;36mrun_quiz\u001b[1;34m(questions, Interpretation)\u001b[0m\n\u001b[0;32m    107\u001b[0m      \u001b[1;32melse\u001b[0m\u001b[1;33m:\u001b[0m\u001b[1;33m\u001b[0m\u001b[1;33m\u001b[0m\u001b[0m\n\u001b[0;32m    108\u001b[0m         \u001b[0mdf\u001b[0m \u001b[1;33m=\u001b[0m \u001b[0mpd\u001b[0m\u001b[1;33m.\u001b[0m\u001b[0mDataFrame\u001b[0m\u001b[1;33m(\u001b[0m\u001b[0md\u001b[0m\u001b[1;33m,\u001b[0m \u001b[0mindex\u001b[0m \u001b[1;33m=\u001b[0m \u001b[1;33m[\u001b[0m\u001b[1;34m'1'\u001b[0m\u001b[1;33m]\u001b[0m\u001b[1;33m)\u001b[0m\u001b[1;33m\u001b[0m\u001b[1;33m\u001b[0m\u001b[0m\n\u001b[1;32m--> 109\u001b[1;33m         \u001b[0mdf\u001b[0m\u001b[1;33m.\u001b[0m\u001b[0mto_csv\u001b[0m\u001b[1;33m(\u001b[0m\u001b[1;34m'./DataSet/DataSet__'\u001b[0m\u001b[1;33m+\u001b[0m\u001b[0mname_generator\u001b[0m\u001b[1;33m+\u001b[0m\u001b[1;34m'__.csv'\u001b[0m\u001b[1;33m,\u001b[0m \u001b[0mindex\u001b[0m\u001b[1;33m=\u001b[0m\u001b[1;32mFalse\u001b[0m\u001b[1;33m)\u001b[0m\u001b[1;33m\u001b[0m\u001b[1;33m\u001b[0m\u001b[0m\n\u001b[0m\u001b[0;32m    110\u001b[0m      \u001b[1;32mreturn\u001b[0m \u001b[0mprint\u001b[0m\u001b[1;33m(\u001b[0m\u001b[0mdf\u001b[0m\u001b[1;33m)\u001b[0m\u001b[1;33m\u001b[0m\u001b[1;33m\u001b[0m\u001b[0m\n\u001b[0;32m    111\u001b[0m \u001b[1;33m\u001b[0m\u001b[0m\n",
      "\u001b[1;32m~\\anaconda3\\lib\\site-packages\\pandas\\core\\generic.py\u001b[0m in \u001b[0;36mto_csv\u001b[1;34m(self, path_or_buf, sep, na_rep, float_format, columns, header, index, index_label, mode, encoding, compression, quoting, quotechar, line_terminator, chunksize, date_format, doublequote, escapechar, decimal, errors, storage_options)\u001b[0m\n\u001b[0;32m   3464\u001b[0m         )\n\u001b[0;32m   3465\u001b[0m \u001b[1;33m\u001b[0m\u001b[0m\n\u001b[1;32m-> 3466\u001b[1;33m         return DataFrameRenderer(formatter).to_csv(\n\u001b[0m\u001b[0;32m   3467\u001b[0m             \u001b[0mpath_or_buf\u001b[0m\u001b[1;33m,\u001b[0m\u001b[1;33m\u001b[0m\u001b[1;33m\u001b[0m\u001b[0m\n\u001b[0;32m   3468\u001b[0m             \u001b[0mline_terminator\u001b[0m\u001b[1;33m=\u001b[0m\u001b[0mline_terminator\u001b[0m\u001b[1;33m,\u001b[0m\u001b[1;33m\u001b[0m\u001b[1;33m\u001b[0m\u001b[0m\n",
      "\u001b[1;32m~\\anaconda3\\lib\\site-packages\\pandas\\io\\formats\\format.py\u001b[0m in \u001b[0;36mto_csv\u001b[1;34m(self, path_or_buf, encoding, sep, columns, index_label, mode, compression, quoting, quotechar, line_terminator, chunksize, date_format, doublequote, escapechar, errors, storage_options)\u001b[0m\n\u001b[0;32m   1103\u001b[0m             \u001b[0mformatter\u001b[0m\u001b[1;33m=\u001b[0m\u001b[0mself\u001b[0m\u001b[1;33m.\u001b[0m\u001b[0mfmt\u001b[0m\u001b[1;33m,\u001b[0m\u001b[1;33m\u001b[0m\u001b[1;33m\u001b[0m\u001b[0m\n\u001b[0;32m   1104\u001b[0m         )\n\u001b[1;32m-> 1105\u001b[1;33m         \u001b[0mcsv_formatter\u001b[0m\u001b[1;33m.\u001b[0m\u001b[0msave\u001b[0m\u001b[1;33m(\u001b[0m\u001b[1;33m)\u001b[0m\u001b[1;33m\u001b[0m\u001b[1;33m\u001b[0m\u001b[0m\n\u001b[0m\u001b[0;32m   1106\u001b[0m \u001b[1;33m\u001b[0m\u001b[0m\n\u001b[0;32m   1107\u001b[0m         \u001b[1;32mif\u001b[0m \u001b[0mcreated_buffer\u001b[0m\u001b[1;33m:\u001b[0m\u001b[1;33m\u001b[0m\u001b[1;33m\u001b[0m\u001b[0m\n",
      "\u001b[1;32m~\\anaconda3\\lib\\site-packages\\pandas\\io\\formats\\csvs.py\u001b[0m in \u001b[0;36msave\u001b[1;34m(self)\u001b[0m\n\u001b[0;32m    235\u001b[0m         \"\"\"\n\u001b[0;32m    236\u001b[0m         \u001b[1;31m# apply compression and byte/text conversion\u001b[0m\u001b[1;33m\u001b[0m\u001b[1;33m\u001b[0m\u001b[0m\n\u001b[1;32m--> 237\u001b[1;33m         with get_handle(\n\u001b[0m\u001b[0;32m    238\u001b[0m             \u001b[0mself\u001b[0m\u001b[1;33m.\u001b[0m\u001b[0mfilepath_or_buffer\u001b[0m\u001b[1;33m,\u001b[0m\u001b[1;33m\u001b[0m\u001b[1;33m\u001b[0m\u001b[0m\n\u001b[0;32m    239\u001b[0m             \u001b[0mself\u001b[0m\u001b[1;33m.\u001b[0m\u001b[0mmode\u001b[0m\u001b[1;33m,\u001b[0m\u001b[1;33m\u001b[0m\u001b[1;33m\u001b[0m\u001b[0m\n",
      "\u001b[1;32m~\\anaconda3\\lib\\site-packages\\pandas\\io\\common.py\u001b[0m in \u001b[0;36mget_handle\u001b[1;34m(path_or_buf, mode, encoding, compression, memory_map, is_text, errors, storage_options)\u001b[0m\n\u001b[0;32m    700\u001b[0m         \u001b[1;32mif\u001b[0m \u001b[0mioargs\u001b[0m\u001b[1;33m.\u001b[0m\u001b[0mencoding\u001b[0m \u001b[1;32mand\u001b[0m \u001b[1;34m\"b\"\u001b[0m \u001b[1;32mnot\u001b[0m \u001b[1;32min\u001b[0m \u001b[0mioargs\u001b[0m\u001b[1;33m.\u001b[0m\u001b[0mmode\u001b[0m\u001b[1;33m:\u001b[0m\u001b[1;33m\u001b[0m\u001b[1;33m\u001b[0m\u001b[0m\n\u001b[0;32m    701\u001b[0m             \u001b[1;31m# Encoding\u001b[0m\u001b[1;33m\u001b[0m\u001b[1;33m\u001b[0m\u001b[0m\n\u001b[1;32m--> 702\u001b[1;33m             handle = open(\n\u001b[0m\u001b[0;32m    703\u001b[0m                 \u001b[0mhandle\u001b[0m\u001b[1;33m,\u001b[0m\u001b[1;33m\u001b[0m\u001b[1;33m\u001b[0m\u001b[0m\n\u001b[0;32m    704\u001b[0m                 \u001b[0mioargs\u001b[0m\u001b[1;33m.\u001b[0m\u001b[0mmode\u001b[0m\u001b[1;33m,\u001b[0m\u001b[1;33m\u001b[0m\u001b[1;33m\u001b[0m\u001b[0m\n",
      "\u001b[1;31mOSError\u001b[0m: [Errno 22] Invalid argument: './DataSet/DataSet__ƫĒ\\x01__.csv'"
     ]
    }
   ],
   "source": [
    "%run Test.py"
   ]
  },
  {
   "cell_type": "code",
   "execution_count": null,
   "id": "fb351bec",
   "metadata": {},
   "outputs": [],
   "source": []
  },
  {
   "cell_type": "code",
   "execution_count": null,
   "id": "3b557886",
   "metadata": {},
   "outputs": [],
   "source": []
  },
  {
   "cell_type": "code",
   "execution_count": null,
   "id": "ec23830e",
   "metadata": {},
   "outputs": [],
   "source": []
  }
 ],
 "metadata": {
  "kernelspec": {
   "display_name": "Python 3 (ipykernel)",
   "language": "python",
   "name": "python3"
  },
  "language_info": {
   "codemirror_mode": {
    "name": "ipython",
    "version": 3
   },
   "file_extension": ".py",
   "mimetype": "text/x-python",
   "name": "python",
   "nbconvert_exporter": "python",
   "pygments_lexer": "ipython3",
   "version": "3.9.7"
  }
 },
 "nbformat": 4,
 "nbformat_minor": 5
}
