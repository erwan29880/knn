{
 "cells": [
  {
   "cell_type": "code",
   "execution_count": 90,
   "id": "6fb078db",
   "metadata": {},
   "outputs": [],
   "source": [
    "import os\n",
    "import pandas as pd\n",
    "import numpy as np"
   ]
  },
  {
   "cell_type": "markdown",
   "id": "7fcba8a2",
   "metadata": {},
   "source": [
    "Définir le path du dossier des datasets"
   ]
  },
  {
   "cell_type": "code",
   "execution_count": 91,
   "id": "75c50036",
   "metadata": {},
   "outputs": [],
   "source": [
    "path = \"\\\\DataSet\"\n",
    "chemin_absolu = os.getcwd()\n",
    "path = os.path.join(chemin_absolu+path)"
   ]
  },
  {
   "cell_type": "markdown",
   "id": "497dff24",
   "metadata": {},
   "source": [
    "récupération des données"
   ]
  },
  {
   "cell_type": "code",
   "execution_count": 92,
   "id": "89a5ae9a",
   "metadata": {},
   "outputs": [],
   "source": [
    "# tous les fichiers, y compris ini\n",
    "list = os.listdir(path)"
   ]
  },
  {
   "cell_type": "markdown",
   "id": "a4abdfdf",
   "metadata": {},
   "source": [
    "Rentrer les noms de fichiers dans une liste, vérifier qu'ils finissent par csv"
   ]
  },
  {
   "cell_type": "code",
   "execution_count": 93,
   "id": "6b566cac",
   "metadata": {},
   "outputs": [],
   "source": [
    "liste = []\n",
    "for csv in list:\n",
    "    if 'csv' in csv:\n",
    "        liste.append(csv)"
   ]
  },
  {
   "cell_type": "markdown",
   "id": "6b5f928c",
   "metadata": {},
   "source": [
    "concaténer les fichiers csv dans un df"
   ]
  },
  {
   "cell_type": "code",
   "execution_count": 94,
   "id": "5e3a1bda",
   "metadata": {},
   "outputs": [],
   "source": [
    "res = pd.read_csv('Dataset/'+liste[0])\n",
    "for i in range(1,len(liste)):\n",
    "    res = pd.concat([res, pd.read_csv('Dataset/'+liste[i])], ignore_index=True)"
   ]
  },
  {
   "cell_type": "markdown",
   "id": "46b65dde",
   "metadata": {},
   "source": [
    "Enregistrer les résultats dans un fichier csv"
   ]
  },
  {
   "cell_type": "code",
   "execution_count": 95,
   "id": "59c87a9a",
   "metadata": {},
   "outputs": [],
   "source": [
    "res.to_csv('data.csv', index=False)"
   ]
  }
 ],
 "metadata": {
  "kernelspec": {
   "display_name": "Python 3 (ipykernel)",
   "language": "python",
   "name": "python3"
  },
  "language_info": {
   "codemirror_mode": {
    "name": "ipython",
    "version": 3
   },
   "file_extension": ".py",
   "mimetype": "text/x-python",
   "name": "python",
   "nbconvert_exporter": "python",
   "pygments_lexer": "ipython3",
   "version": "3.9.7"
  }
 },
 "nbformat": 4,
 "nbformat_minor": 5
}
