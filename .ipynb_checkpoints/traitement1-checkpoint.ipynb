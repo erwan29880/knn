{
 "cells": [
  {
   "cell_type": "markdown",
   "id": "3feb1d05",
   "metadata": {},
   "source": [
    "# <center>Partie 1 : Base de données, Analyse, Prétraitement et Préparation</center>"
   ]
  },
  {
   "cell_type": "markdown",
   "id": "64fc0c07",
   "metadata": {},
   "source": [
    "## traitement des fichiers csv"
   ]
  },
  {
   "cell_type": "markdown",
   "id": "e5066f4b",
   "metadata": {},
   "source": [
    "> le traitement initial des fichiers est fait dans le fichier 'import_fichiers'"
   ]
  },
  {
   "cell_type": "markdown",
   "id": "05ec8e3e",
   "metadata": {},
   "source": [
    "## traitement de données"
   ]
  },
  {
   "cell_type": "markdown",
   "id": "a9bf269a",
   "metadata": {},
   "source": [
    "### importer les bibliothèques de base, les autres seront importées au fur et à mesure"
   ]
  },
  {
   "cell_type": "code",
   "execution_count": 1,
   "id": "3ff3ca36",
   "metadata": {},
   "outputs": [],
   "source": [
    "import os\n",
    "import pandas as pd\n",
    "import numpy as np\n",
    "import matplotlib.pyplot as plt"
   ]
  },
  {
   "cell_type": "markdown",
   "id": "3105cf80",
   "metadata": {},
   "source": [
    "#### import du fichier csv"
   ]
  },
  {
   "cell_type": "code",
   "execution_count": 2,
   "id": "046db124",
   "metadata": {},
   "outputs": [],
   "source": [
    "data = pd.read_csv('data.csv')"
   ]
  },
  {
   "cell_type": "markdown",
   "id": "99761507",
   "metadata": {},
   "source": [
    "#### premières visualisations du jeu de données"
   ]
  },
  {
   "cell_type": "code",
   "execution_count": 3,
   "id": "76b33fb1",
   "metadata": {},
   "outputs": [
    {
     "data": {
      "text/html": [
       "<div>\n",
       "<style scoped>\n",
       "    .dataframe tbody tr th:only-of-type {\n",
       "        vertical-align: middle;\n",
       "    }\n",
       "\n",
       "    .dataframe tbody tr th {\n",
       "        vertical-align: top;\n",
       "    }\n",
       "\n",
       "    .dataframe thead th {\n",
       "        text-align: right;\n",
       "    }\n",
       "</style>\n",
       "<table border=\"1\" class=\"dataframe\">\n",
       "  <thead>\n",
       "    <tr style=\"text-align: right;\">\n",
       "      <th></th>\n",
       "      <th>Q1</th>\n",
       "      <th>Q2</th>\n",
       "      <th>Q3</th>\n",
       "      <th>Q4</th>\n",
       "      <th>Q5</th>\n",
       "      <th>Q6</th>\n",
       "      <th>Q7</th>\n",
       "      <th>Q8</th>\n",
       "      <th>Q9</th>\n",
       "      <th>Q10</th>\n",
       "      <th>Score</th>\n",
       "      <th>Interpretation</th>\n",
       "    </tr>\n",
       "  </thead>\n",
       "  <tbody>\n",
       "    <tr>\n",
       "      <th>0</th>\n",
       "      <td>a</td>\n",
       "      <td>a</td>\n",
       "      <td>a</td>\n",
       "      <td>a</td>\n",
       "      <td>a</td>\n",
       "      <td>1</td>\n",
       "      <td>1</td>\n",
       "      <td>1</td>\n",
       "      <td>1</td>\n",
       "      <td>1</td>\n",
       "      <td>10</td>\n",
       "      <td>B</td>\n",
       "    </tr>\n",
       "    <tr>\n",
       "      <th>1</th>\n",
       "      <td>b</td>\n",
       "      <td>b</td>\n",
       "      <td>b</td>\n",
       "      <td>b</td>\n",
       "      <td>b</td>\n",
       "      <td>2</td>\n",
       "      <td>2</td>\n",
       "      <td>2</td>\n",
       "      <td>2</td>\n",
       "      <td>2</td>\n",
       "      <td>0</td>\n",
       "      <td>C</td>\n",
       "    </tr>\n",
       "    <tr>\n",
       "      <th>2</th>\n",
       "      <td>c</td>\n",
       "      <td>c</td>\n",
       "      <td>c</td>\n",
       "      <td>c</td>\n",
       "      <td>c</td>\n",
       "      <td>3</td>\n",
       "      <td>3</td>\n",
       "      <td>3</td>\n",
       "      <td>3</td>\n",
       "      <td>3</td>\n",
       "      <td>20</td>\n",
       "      <td>A</td>\n",
       "    </tr>\n",
       "    <tr>\n",
       "      <th>3</th>\n",
       "      <td>a</td>\n",
       "      <td>b</td>\n",
       "      <td>c</td>\n",
       "      <td>a</td>\n",
       "      <td>b</td>\n",
       "      <td>1</td>\n",
       "      <td>2</td>\n",
       "      <td>3</td>\n",
       "      <td>1</td>\n",
       "      <td>2</td>\n",
       "      <td>8</td>\n",
       "      <td>C</td>\n",
       "    </tr>\n",
       "    <tr>\n",
       "      <th>4</th>\n",
       "      <td>b</td>\n",
       "      <td>c</td>\n",
       "      <td>a</td>\n",
       "      <td>c</td>\n",
       "      <td>a</td>\n",
       "      <td>3</td>\n",
       "      <td>2</td>\n",
       "      <td>3</td>\n",
       "      <td>1</td>\n",
       "      <td>2</td>\n",
       "      <td>11</td>\n",
       "      <td>B</td>\n",
       "    </tr>\n",
       "  </tbody>\n",
       "</table>\n",
       "</div>"
      ],
      "text/plain": [
       "  Q1 Q2 Q3 Q4 Q5 Q6 Q7 Q8 Q9 Q10  Score Interpretation\n",
       "0  a  a  a  a  a  1  1  1  1   1     10              B\n",
       "1  b  b  b  b  b  2  2  2  2   2      0              C\n",
       "2  c  c  c  c  c  3  3  3  3   3     20              A\n",
       "3  a  b  c  a  b  1  2  3  1   2      8              C\n",
       "4  b  c  a  c  a  3  2  3  1   2     11              B"
      ]
     },
     "execution_count": 3,
     "metadata": {},
     "output_type": "execute_result"
    }
   ],
   "source": [
    "data.head()"
   ]
  },
  {
   "cell_type": "code",
   "execution_count": 4,
   "id": "363e6bbd",
   "metadata": {},
   "outputs": [
    {
     "name": "stdout",
     "output_type": "stream",
     "text": [
      "<class 'pandas.core.frame.DataFrame'>\n",
      "RangeIndex: 225 entries, 0 to 224\n",
      "Data columns (total 12 columns):\n",
      " #   Column          Non-Null Count  Dtype \n",
      "---  ------          --------------  ----- \n",
      " 0   Q1              217 non-null    object\n",
      " 1   Q2              213 non-null    object\n",
      " 2   Q3              212 non-null    object\n",
      " 3   Q4              215 non-null    object\n",
      " 4   Q5              211 non-null    object\n",
      " 5   Q6              213 non-null    object\n",
      " 6   Q7              215 non-null    object\n",
      " 7   Q8              213 non-null    object\n",
      " 8   Q9              215 non-null    object\n",
      " 9   Q10             217 non-null    object\n",
      " 10  Score           225 non-null    int64 \n",
      " 11  Interpretation  225 non-null    object\n",
      "dtypes: int64(1), object(11)\n",
      "memory usage: 21.2+ KB\n"
     ]
    }
   ],
   "source": [
    "data.info()"
   ]
  },
  {
   "cell_type": "code",
   "execution_count": 5,
   "id": "5860eddb",
   "metadata": {},
   "outputs": [],
   "source": [
    "df = data.copy()"
   ]
  },
  {
   "cell_type": "markdown",
   "id": "a97a5bd1",
   "metadata": {},
   "source": [
    "#### Traitement des données non numériques\n",
    "> remplacement des valeurs non-souhaitées par des 'Nan'"
   ]
  },
  {
   "cell_type": "code",
   "execution_count": 6,
   "id": "f5926c4d",
   "metadata": {},
   "outputs": [],
   "source": [
    "# remplacer les caractères a,b,c par des 1, 2, 3, les autres sont automatiquement convertis en nan \n",
    "\n",
    "caracteres_rempla_abc = {\n",
    "    'a':'a',\n",
    "    'b':'b',\n",
    "    'c':'c',\n",
    "    'A':'a',\n",
    "    'B':'b',\n",
    "    'C':'c'    \n",
    "}\n",
    "for colonne in range(0,5):\n",
    "    df.iloc[:,colonne] = df.iloc[:,colonne].map(caracteres_rempla_abc)\n",
    "\n",
    "\n",
    "\n",
    "# remplacer les caractères 'string' 1,2,3 par des 1, 2, 3, les autres sont automatiquement convertis en nan \n",
    "caracteres_rempla_123 = {\n",
    "    '1':'a',\n",
    "    '2':'b',\n",
    "    '3':'c' \n",
    "}\n",
    "for colonne in range(5, 10):\n",
    "     df.iloc[:,colonne] = df.iloc[:,colonne].map(caracteres_rempla_123)\n",
    "        \n",
    "# label encoder 'a la main' de la colonne interpretation\n",
    "caracteres_rempla_target = {\n",
    "    'A':0,\n",
    "    'B':1,\n",
    "    'C':2\n",
    "}\n",
    "df['Interpretation'] = df['Interpretation'].map(caracteres_rempla_target)\n",
    "\n",
    "caracteres_rempla = {\n",
    "    'a':0,\n",
    "    'b':1,\n",
    "    'c':2\n",
    "}\n",
    "for colonne in range(0,10):\n",
    "    df.iloc[:,colonne] = df.iloc[:,colonne].map(caracteres_rempla)"
   ]
  },
  {
   "cell_type": "code",
   "execution_count": 7,
   "id": "03866a1e",
   "metadata": {},
   "outputs": [
    {
     "data": {
      "text/plain": [
       "Q1                float64\n",
       "Q2                float64\n",
       "Q3                float64\n",
       "Q4                float64\n",
       "Q5                float64\n",
       "Q6                float64\n",
       "Q7                float64\n",
       "Q8                float64\n",
       "Q9                float64\n",
       "Q10               float64\n",
       "Score               int64\n",
       "Interpretation      int64\n",
       "dtype: object"
      ]
     },
     "execution_count": 7,
     "metadata": {},
     "output_type": "execute_result"
    }
   ],
   "source": [
    "# vérification du type des données\n",
    "df.dtypes"
   ]
  },
  {
   "cell_type": "markdown",
   "id": "4a8477d1",
   "metadata": {},
   "source": [
    "vérification"
   ]
  },
  {
   "cell_type": "code",
   "execution_count": 8,
   "id": "af6a40e8",
   "metadata": {},
   "outputs": [
    {
     "data": {
      "text/html": [
       "<div>\n",
       "<style scoped>\n",
       "    .dataframe tbody tr th:only-of-type {\n",
       "        vertical-align: middle;\n",
       "    }\n",
       "\n",
       "    .dataframe tbody tr th {\n",
       "        vertical-align: top;\n",
       "    }\n",
       "\n",
       "    .dataframe thead th {\n",
       "        text-align: right;\n",
       "    }\n",
       "</style>\n",
       "<table border=\"1\" class=\"dataframe\">\n",
       "  <thead>\n",
       "    <tr style=\"text-align: right;\">\n",
       "      <th></th>\n",
       "      <th>Q1</th>\n",
       "      <th>Q2</th>\n",
       "      <th>Q3</th>\n",
       "      <th>Q4</th>\n",
       "      <th>Q5</th>\n",
       "      <th>Q6</th>\n",
       "      <th>Q7</th>\n",
       "      <th>Q8</th>\n",
       "      <th>Q9</th>\n",
       "      <th>Q10</th>\n",
       "      <th>Score</th>\n",
       "      <th>Interpretation</th>\n",
       "    </tr>\n",
       "  </thead>\n",
       "  <tbody>\n",
       "    <tr>\n",
       "      <th>0</th>\n",
       "      <td>0.0</td>\n",
       "      <td>0.0</td>\n",
       "      <td>0.0</td>\n",
       "      <td>0.0</td>\n",
       "      <td>0.0</td>\n",
       "      <td>0.0</td>\n",
       "      <td>0.0</td>\n",
       "      <td>0.0</td>\n",
       "      <td>0.0</td>\n",
       "      <td>0.0</td>\n",
       "      <td>10</td>\n",
       "      <td>1</td>\n",
       "    </tr>\n",
       "    <tr>\n",
       "      <th>1</th>\n",
       "      <td>1.0</td>\n",
       "      <td>1.0</td>\n",
       "      <td>1.0</td>\n",
       "      <td>1.0</td>\n",
       "      <td>1.0</td>\n",
       "      <td>1.0</td>\n",
       "      <td>1.0</td>\n",
       "      <td>1.0</td>\n",
       "      <td>1.0</td>\n",
       "      <td>1.0</td>\n",
       "      <td>0</td>\n",
       "      <td>2</td>\n",
       "    </tr>\n",
       "    <tr>\n",
       "      <th>2</th>\n",
       "      <td>2.0</td>\n",
       "      <td>2.0</td>\n",
       "      <td>2.0</td>\n",
       "      <td>2.0</td>\n",
       "      <td>2.0</td>\n",
       "      <td>2.0</td>\n",
       "      <td>2.0</td>\n",
       "      <td>2.0</td>\n",
       "      <td>2.0</td>\n",
       "      <td>2.0</td>\n",
       "      <td>20</td>\n",
       "      <td>0</td>\n",
       "    </tr>\n",
       "    <tr>\n",
       "      <th>3</th>\n",
       "      <td>0.0</td>\n",
       "      <td>1.0</td>\n",
       "      <td>2.0</td>\n",
       "      <td>0.0</td>\n",
       "      <td>1.0</td>\n",
       "      <td>0.0</td>\n",
       "      <td>1.0</td>\n",
       "      <td>2.0</td>\n",
       "      <td>0.0</td>\n",
       "      <td>1.0</td>\n",
       "      <td>8</td>\n",
       "      <td>2</td>\n",
       "    </tr>\n",
       "    <tr>\n",
       "      <th>4</th>\n",
       "      <td>1.0</td>\n",
       "      <td>2.0</td>\n",
       "      <td>0.0</td>\n",
       "      <td>2.0</td>\n",
       "      <td>0.0</td>\n",
       "      <td>2.0</td>\n",
       "      <td>1.0</td>\n",
       "      <td>2.0</td>\n",
       "      <td>0.0</td>\n",
       "      <td>1.0</td>\n",
       "      <td>11</td>\n",
       "      <td>1</td>\n",
       "    </tr>\n",
       "  </tbody>\n",
       "</table>\n",
       "</div>"
      ],
      "text/plain": [
       "    Q1   Q2   Q3   Q4   Q5   Q6   Q7   Q8   Q9  Q10  Score  Interpretation\n",
       "0  0.0  0.0  0.0  0.0  0.0  0.0  0.0  0.0  0.0  0.0     10               1\n",
       "1  1.0  1.0  1.0  1.0  1.0  1.0  1.0  1.0  1.0  1.0      0               2\n",
       "2  2.0  2.0  2.0  2.0  2.0  2.0  2.0  2.0  2.0  2.0     20               0\n",
       "3  0.0  1.0  2.0  0.0  1.0  0.0  1.0  2.0  0.0  1.0      8               2\n",
       "4  1.0  2.0  0.0  2.0  0.0  2.0  1.0  2.0  0.0  1.0     11               1"
      ]
     },
     "execution_count": 8,
     "metadata": {},
     "output_type": "execute_result"
    }
   ],
   "source": [
    "# visualisation du jeu de données pour vérifier la transformation\n",
    "df.head()"
   ]
  },
  {
   "cell_type": "markdown",
   "id": "dee4546f",
   "metadata": {},
   "source": [
    "##### choix de suppression des NaN, par rapport au remplacement"
   ]
  },
  {
   "cell_type": "code",
   "execution_count": 9,
   "id": "d81266c8",
   "metadata": {},
   "outputs": [],
   "source": [
    "df = df.dropna()"
   ]
  },
  {
   "cell_type": "code",
   "execution_count": 10,
   "id": "34002d9f",
   "metadata": {},
   "outputs": [
    {
     "data": {
      "text/plain": [
       "(41, 12)"
      ]
     },
     "execution_count": 10,
     "metadata": {},
     "output_type": "execute_result"
    }
   ],
   "source": [
    "df.shape"
   ]
  },
  {
   "cell_type": "markdown",
   "id": "6bda6210",
   "metadata": {},
   "source": [
    "> Ré-indexer le dataframe"
   ]
  },
  {
   "cell_type": "code",
   "execution_count": 11,
   "id": "9eab7c38",
   "metadata": {},
   "outputs": [],
   "source": [
    "df = df.reset_index(drop=True)"
   ]
  },
  {
   "cell_type": "code",
   "execution_count": 12,
   "id": "425cfaf8",
   "metadata": {},
   "outputs": [
    {
     "data": {
      "text/plain": [
       "2    29\n",
       "1    11\n",
       "0     1\n",
       "Name: Interpretation, dtype: int64"
      ]
     },
     "execution_count": 12,
     "metadata": {},
     "output_type": "execute_result"
    }
   ],
   "source": [
    "# voir les données présentes par interprétation\n",
    "df['Interpretation'].value_counts()"
   ]
  },
  {
   "cell_type": "markdown",
   "id": "e6b2d721",
   "metadata": {},
   "source": [
    "#### écartement des colonnes 'score' et 'interprétation' pour créer le jeu de données des features "
   ]
  },
  {
   "cell_type": "code",
   "execution_count": 13,
   "id": "c36d0437",
   "metadata": {},
   "outputs": [],
   "source": [
    "X = df.drop(columns=['Score','Interpretation'], axis=1)"
   ]
  },
  {
   "cell_type": "markdown",
   "id": "8cc6f586",
   "metadata": {},
   "source": [
    "#### choix  : prédire le score ; l'interprétation est écartée du jeu de données"
   ]
  },
  {
   "cell_type": "code",
   "execution_count": 14,
   "id": "dbc6535b",
   "metadata": {},
   "outputs": [],
   "source": [
    "y = df['Interpretation']"
   ]
  },
  {
   "cell_type": "markdown",
   "id": "8a1e28a5",
   "metadata": {},
   "source": [
    "#### séparation du jeu de données en donnée de test et d'entrainement"
   ]
  },
  {
   "cell_type": "code",
   "execution_count": 15,
   "id": "5e59f239",
   "metadata": {},
   "outputs": [],
   "source": [
    "from sklearn.model_selection import train_test_split\n",
    "\n",
    "X_train, X_test, y_train, y_test = train_test_split(X,y, test_size=0.2, random_state=2)"
   ]
  },
  {
   "cell_type": "markdown",
   "id": "cae073f6",
   "metadata": {},
   "source": [
    "# <center>KNN from scratch</center>"
   ]
  },
  {
   "cell_type": "markdown",
   "id": "44dd5ef8",
   "metadata": {},
   "source": [
    "Création des fonctions pour le calcul de différentes distances\n",
    "\n",
    "> utilisation des np.array pour utiliser le calcul matriciel"
   ]
  },
  {
   "cell_type": "code",
   "execution_count": 16,
   "id": "de124951",
   "metadata": {},
   "outputs": [],
   "source": [
    "def euclidien(row1, row2):\n",
    "       \n",
    "    row1 = np.array(row1)\n",
    "    row2 = np.array(row2)\n",
    "    \n",
    "    row1 = row1.reshape(row1.shape[0], 1)\n",
    "    row2 = row2.reshape(row2.shape[0], 1)\n",
    "    \n",
    "    res = (row1 - row2)**2\n",
    "    res = sum(res)\n",
    "    res = np.sqrt(res)\n",
    "    res = np.around(res,2)\n",
    "    \n",
    "    return res\n",
    "\n",
    "\n",
    "def manhattan(row1, row2):\n",
    "    \n",
    "    row1 = np.array(row1)\n",
    "    row2 = np.array(row2)\n",
    "    \n",
    "    row1 = row1.reshape(row1.shape[0], 1)\n",
    "    row2 = row2.reshape(row2.shape[0], 1)\n",
    "    \n",
    "    \n",
    "    return sum(abs(row1 - row2))\n",
    "\n",
    "\n",
    "def minkowski(row1, row2, p):\n",
    "        \n",
    "    row1 = np.array(row1)\n",
    "    row2 = np.array(row2)\n",
    "    \n",
    "    row1 = row1.reshape(row1.shape[0], 1)\n",
    "    row2 = row2.reshape(row2.shape[0], 1)\n",
    "    \n",
    "    res  = sum((row1 - row2)**p)\n",
    "    res = res**(1/p)\n",
    "    res = np.around(res,decimals=2)"
   ]
  },
  {
   "cell_type": "markdown",
   "id": "3cae5c7a",
   "metadata": {},
   "source": [
    "création de la fonction distance"
   ]
  },
  {
   "cell_type": "code",
   "execution_count": 17,
   "id": "34a2bcc7",
   "metadata": {},
   "outputs": [],
   "source": [
    "def distance(row, dataframe, method='euclidien', p=3):\n",
    "    \n",
    "    liste = {}\n",
    "       \n",
    "        \n",
    "    for ligne_test in range(X_test.shape[0]):\n",
    "        \n",
    "        liste2 = []\n",
    "        \n",
    "        for ligne in range(dataframe.shape[0]):\n",
    "            \n",
    "            if method == 'euclidien':\n",
    "\n",
    "                res = euclidien(X_test.iloc[ligne_test], X.iloc[ligne])\n",
    "            \n",
    "            if method == 'manhattan':\n",
    "                \n",
    "                res = manhattan(X_test.iloc[ligne_test], X.iloc[ligne])\n",
    "                \n",
    "            if method == 'minkowski':\n",
    "                \n",
    "                res = minkoswki(X_test.iloc[ligne_test], X.iloc[ligne], p=p)\n",
    "\n",
    "            liste2.append(res[0])\n",
    "        \n",
    "        mon_nom_de_colonne = str(ligne_test)\n",
    "        mon_nom_de_colonne = 'col' + mon_nom_de_colonne\n",
    "        \n",
    "        liste[mon_nom_de_colonne] = liste2\n",
    "    \n",
    "    \n",
    "    \n",
    "    return liste\n",
    "    "
   ]
  },
  {
   "cell_type": "markdown",
   "id": "6b5f512b",
   "metadata": {},
   "source": [
    "#### pour chaque ligne des X, calculer la distance entre toutes les lignes et une seule ligne\n",
    "\n",
    "utilisation de dataframes pour les résultats pour faciliter la lecture dans jupyter"
   ]
  },
  {
   "cell_type": "code",
   "execution_count": 18,
   "id": "503e836c",
   "metadata": {},
   "outputs": [],
   "source": [
    "res_euclidien = pd.DataFrame(distance(X.iloc[0], X_train))"
   ]
  },
  {
   "cell_type": "code",
   "execution_count": 19,
   "id": "e71d0a2b",
   "metadata": {},
   "outputs": [
    {
     "data": {
      "text/html": [
       "<div>\n",
       "<style scoped>\n",
       "    .dataframe tbody tr th:only-of-type {\n",
       "        vertical-align: middle;\n",
       "    }\n",
       "\n",
       "    .dataframe tbody tr th {\n",
       "        vertical-align: top;\n",
       "    }\n",
       "\n",
       "    .dataframe thead th {\n",
       "        text-align: right;\n",
       "    }\n",
       "</style>\n",
       "<table border=\"1\" class=\"dataframe\">\n",
       "  <thead>\n",
       "    <tr style=\"text-align: right;\">\n",
       "      <th></th>\n",
       "      <th>col0</th>\n",
       "      <th>col1</th>\n",
       "      <th>col2</th>\n",
       "      <th>col3</th>\n",
       "      <th>col4</th>\n",
       "      <th>col5</th>\n",
       "      <th>col6</th>\n",
       "      <th>col7</th>\n",
       "      <th>col8</th>\n",
       "    </tr>\n",
       "  </thead>\n",
       "  <tbody>\n",
       "    <tr>\n",
       "      <th>0</th>\n",
       "      <td>4.00</td>\n",
       "      <td>4.00</td>\n",
       "      <td>4.12</td>\n",
       "      <td>0.00</td>\n",
       "      <td>6.32</td>\n",
       "      <td>3.16</td>\n",
       "      <td>3.61</td>\n",
       "      <td>3.46</td>\n",
       "      <td>4.12</td>\n",
       "    </tr>\n",
       "    <tr>\n",
       "      <th>1</th>\n",
       "      <td>2.45</td>\n",
       "      <td>2.45</td>\n",
       "      <td>2.24</td>\n",
       "      <td>3.16</td>\n",
       "      <td>3.16</td>\n",
       "      <td>0.00</td>\n",
       "      <td>2.24</td>\n",
       "      <td>2.45</td>\n",
       "      <td>2.24</td>\n",
       "    </tr>\n",
       "    <tr>\n",
       "      <th>2</th>\n",
       "      <td>4.00</td>\n",
       "      <td>4.00</td>\n",
       "      <td>3.61</td>\n",
       "      <td>6.32</td>\n",
       "      <td>0.00</td>\n",
       "      <td>3.16</td>\n",
       "      <td>4.12</td>\n",
       "      <td>4.47</td>\n",
       "      <td>3.61</td>\n",
       "    </tr>\n",
       "    <tr>\n",
       "      <th>3</th>\n",
       "      <td>4.24</td>\n",
       "      <td>3.74</td>\n",
       "      <td>2.65</td>\n",
       "      <td>3.46</td>\n",
       "      <td>4.47</td>\n",
       "      <td>2.45</td>\n",
       "      <td>3.00</td>\n",
       "      <td>2.83</td>\n",
       "      <td>2.65</td>\n",
       "    </tr>\n",
       "    <tr>\n",
       "      <th>4</th>\n",
       "      <td>2.24</td>\n",
       "      <td>2.65</td>\n",
       "      <td>3.46</td>\n",
       "      <td>4.36</td>\n",
       "      <td>3.87</td>\n",
       "      <td>2.65</td>\n",
       "      <td>3.46</td>\n",
       "      <td>3.61</td>\n",
       "      <td>3.74</td>\n",
       "    </tr>\n",
       "  </tbody>\n",
       "</table>\n",
       "</div>"
      ],
      "text/plain": [
       "   col0  col1  col2  col3  col4  col5  col6  col7  col8\n",
       "0  4.00  4.00  4.12  0.00  6.32  3.16  3.61  3.46  4.12\n",
       "1  2.45  2.45  2.24  3.16  3.16  0.00  2.24  2.45  2.24\n",
       "2  4.00  4.00  3.61  6.32  0.00  3.16  4.12  4.47  3.61\n",
       "3  4.24  3.74  2.65  3.46  4.47  2.45  3.00  2.83  2.65\n",
       "4  2.24  2.65  3.46  4.36  3.87  2.65  3.46  3.61  3.74"
      ]
     },
     "execution_count": 19,
     "metadata": {},
     "output_type": "execute_result"
    }
   ],
   "source": [
    "res_euclidien.head()"
   ]
  },
  {
   "cell_type": "code",
   "execution_count": 20,
   "id": "12b1aacc",
   "metadata": {},
   "outputs": [],
   "source": [
    "res_manhattan = pd.DataFrame(distance(X.iloc[0], X_train, method='manhattan'))"
   ]
  },
  {
   "cell_type": "code",
   "execution_count": 21,
   "id": "f9afb2ee",
   "metadata": {},
   "outputs": [
    {
     "data": {
      "text/html": [
       "<div>\n",
       "<style scoped>\n",
       "    .dataframe tbody tr th:only-of-type {\n",
       "        vertical-align: middle;\n",
       "    }\n",
       "\n",
       "    .dataframe tbody tr th {\n",
       "        vertical-align: top;\n",
       "    }\n",
       "\n",
       "    .dataframe thead th {\n",
       "        text-align: right;\n",
       "    }\n",
       "</style>\n",
       "<table border=\"1\" class=\"dataframe\">\n",
       "  <thead>\n",
       "    <tr style=\"text-align: right;\">\n",
       "      <th></th>\n",
       "      <th>col0</th>\n",
       "      <th>col1</th>\n",
       "      <th>col2</th>\n",
       "      <th>col3</th>\n",
       "      <th>col4</th>\n",
       "      <th>col5</th>\n",
       "      <th>col6</th>\n",
       "      <th>col7</th>\n",
       "      <th>col8</th>\n",
       "    </tr>\n",
       "  </thead>\n",
       "  <tbody>\n",
       "    <tr>\n",
       "      <th>0</th>\n",
       "      <td>10.0</td>\n",
       "      <td>10.0</td>\n",
       "      <td>11.0</td>\n",
       "      <td>0.0</td>\n",
       "      <td>20.0</td>\n",
       "      <td>10.0</td>\n",
       "      <td>9.0</td>\n",
       "      <td>8.0</td>\n",
       "      <td>11.0</td>\n",
       "    </tr>\n",
       "    <tr>\n",
       "      <th>1</th>\n",
       "      <td>6.0</td>\n",
       "      <td>6.0</td>\n",
       "      <td>5.0</td>\n",
       "      <td>10.0</td>\n",
       "      <td>10.0</td>\n",
       "      <td>0.0</td>\n",
       "      <td>5.0</td>\n",
       "      <td>6.0</td>\n",
       "      <td>5.0</td>\n",
       "    </tr>\n",
       "    <tr>\n",
       "      <th>2</th>\n",
       "      <td>10.0</td>\n",
       "      <td>10.0</td>\n",
       "      <td>9.0</td>\n",
       "      <td>20.0</td>\n",
       "      <td>0.0</td>\n",
       "      <td>10.0</td>\n",
       "      <td>11.0</td>\n",
       "      <td>12.0</td>\n",
       "      <td>9.0</td>\n",
       "    </tr>\n",
       "    <tr>\n",
       "      <th>3</th>\n",
       "      <td>10.0</td>\n",
       "      <td>10.0</td>\n",
       "      <td>7.0</td>\n",
       "      <td>8.0</td>\n",
       "      <td>12.0</td>\n",
       "      <td>6.0</td>\n",
       "      <td>7.0</td>\n",
       "      <td>6.0</td>\n",
       "      <td>7.0</td>\n",
       "    </tr>\n",
       "    <tr>\n",
       "      <th>4</th>\n",
       "      <td>3.0</td>\n",
       "      <td>7.0</td>\n",
       "      <td>8.0</td>\n",
       "      <td>11.0</td>\n",
       "      <td>9.0</td>\n",
       "      <td>7.0</td>\n",
       "      <td>8.0</td>\n",
       "      <td>9.0</td>\n",
       "      <td>10.0</td>\n",
       "    </tr>\n",
       "  </tbody>\n",
       "</table>\n",
       "</div>"
      ],
      "text/plain": [
       "   col0  col1  col2  col3  col4  col5  col6  col7  col8\n",
       "0  10.0  10.0  11.0   0.0  20.0  10.0   9.0   8.0  11.0\n",
       "1   6.0   6.0   5.0  10.0  10.0   0.0   5.0   6.0   5.0\n",
       "2  10.0  10.0   9.0  20.0   0.0  10.0  11.0  12.0   9.0\n",
       "3  10.0  10.0   7.0   8.0  12.0   6.0   7.0   6.0   7.0\n",
       "4   3.0   7.0   8.0  11.0   9.0   7.0   8.0   9.0  10.0"
      ]
     },
     "execution_count": 21,
     "metadata": {},
     "output_type": "execute_result"
    }
   ],
   "source": [
    "res_manhattan.head()"
   ]
  },
  {
   "cell_type": "code",
   "execution_count": 22,
   "id": "4b81f68e",
   "metadata": {},
   "outputs": [],
   "source": [
    "res_minkoswki = pd.DataFrame(distance(X.iloc[0], X_train, method='manhattan', p=5))"
   ]
  },
  {
   "cell_type": "code",
   "execution_count": 23,
   "id": "7f46cc89",
   "metadata": {},
   "outputs": [
    {
     "data": {
      "text/html": [
       "<div>\n",
       "<style scoped>\n",
       "    .dataframe tbody tr th:only-of-type {\n",
       "        vertical-align: middle;\n",
       "    }\n",
       "\n",
       "    .dataframe tbody tr th {\n",
       "        vertical-align: top;\n",
       "    }\n",
       "\n",
       "    .dataframe thead th {\n",
       "        text-align: right;\n",
       "    }\n",
       "</style>\n",
       "<table border=\"1\" class=\"dataframe\">\n",
       "  <thead>\n",
       "    <tr style=\"text-align: right;\">\n",
       "      <th></th>\n",
       "      <th>col0</th>\n",
       "      <th>col1</th>\n",
       "      <th>col2</th>\n",
       "      <th>col3</th>\n",
       "      <th>col4</th>\n",
       "      <th>col5</th>\n",
       "      <th>col6</th>\n",
       "      <th>col7</th>\n",
       "      <th>col8</th>\n",
       "    </tr>\n",
       "  </thead>\n",
       "  <tbody>\n",
       "    <tr>\n",
       "      <th>0</th>\n",
       "      <td>10.0</td>\n",
       "      <td>10.0</td>\n",
       "      <td>11.0</td>\n",
       "      <td>0.0</td>\n",
       "      <td>20.0</td>\n",
       "      <td>10.0</td>\n",
       "      <td>9.0</td>\n",
       "      <td>8.0</td>\n",
       "      <td>11.0</td>\n",
       "    </tr>\n",
       "    <tr>\n",
       "      <th>1</th>\n",
       "      <td>6.0</td>\n",
       "      <td>6.0</td>\n",
       "      <td>5.0</td>\n",
       "      <td>10.0</td>\n",
       "      <td>10.0</td>\n",
       "      <td>0.0</td>\n",
       "      <td>5.0</td>\n",
       "      <td>6.0</td>\n",
       "      <td>5.0</td>\n",
       "    </tr>\n",
       "    <tr>\n",
       "      <th>2</th>\n",
       "      <td>10.0</td>\n",
       "      <td>10.0</td>\n",
       "      <td>9.0</td>\n",
       "      <td>20.0</td>\n",
       "      <td>0.0</td>\n",
       "      <td>10.0</td>\n",
       "      <td>11.0</td>\n",
       "      <td>12.0</td>\n",
       "      <td>9.0</td>\n",
       "    </tr>\n",
       "    <tr>\n",
       "      <th>3</th>\n",
       "      <td>10.0</td>\n",
       "      <td>10.0</td>\n",
       "      <td>7.0</td>\n",
       "      <td>8.0</td>\n",
       "      <td>12.0</td>\n",
       "      <td>6.0</td>\n",
       "      <td>7.0</td>\n",
       "      <td>6.0</td>\n",
       "      <td>7.0</td>\n",
       "    </tr>\n",
       "    <tr>\n",
       "      <th>4</th>\n",
       "      <td>3.0</td>\n",
       "      <td>7.0</td>\n",
       "      <td>8.0</td>\n",
       "      <td>11.0</td>\n",
       "      <td>9.0</td>\n",
       "      <td>7.0</td>\n",
       "      <td>8.0</td>\n",
       "      <td>9.0</td>\n",
       "      <td>10.0</td>\n",
       "    </tr>\n",
       "  </tbody>\n",
       "</table>\n",
       "</div>"
      ],
      "text/plain": [
       "   col0  col1  col2  col3  col4  col5  col6  col7  col8\n",
       "0  10.0  10.0  11.0   0.0  20.0  10.0   9.0   8.0  11.0\n",
       "1   6.0   6.0   5.0  10.0  10.0   0.0   5.0   6.0   5.0\n",
       "2  10.0  10.0   9.0  20.0   0.0  10.0  11.0  12.0   9.0\n",
       "3  10.0  10.0   7.0   8.0  12.0   6.0   7.0   6.0   7.0\n",
       "4   3.0   7.0   8.0  11.0   9.0   7.0   8.0   9.0  10.0"
      ]
     },
     "execution_count": 23,
     "metadata": {},
     "output_type": "execute_result"
    }
   ],
   "source": [
    "res_minkoswki.head()"
   ]
  },
  {
   "cell_type": "markdown",
   "id": "744bcb45",
   "metadata": {},
   "source": [
    "#### création de la fonction de prédiction"
   ]
  },
  {
   "cell_type": "code",
   "execution_count": 24,
   "id": "3df3a8c7",
   "metadata": {},
   "outputs": [],
   "source": [
    "from collections import Counter\n",
    "\n",
    "def predict(df_fit, k):\n",
    "    \n",
    "    liste = []\n",
    "    \n",
    "    for i in df_fit.columns:\n",
    "\n",
    "        df_nn = df_fit.sort_values(by=i)[:k]\n",
    "\n",
    "        # Create counter object to track the labels\n",
    "\n",
    "        counter = Counter(y[df_nn.index])\n",
    "\n",
    "        # Get most common label of all the nearest neighbors\n",
    "\n",
    "        liste.append(counter.most_common()[0][0])\n",
    "\n",
    "    return liste"
   ]
  },
  {
   "cell_type": "code",
   "execution_count": 25,
   "id": "55ad2710",
   "metadata": {},
   "outputs": [],
   "source": [
    "# mettre les résultats en dictionnaire\n",
    "y_pred_liste = {}\n",
    "y_pred_liste['minkoswski'] = (predict(res_minkoswki, 4))\n",
    "y_pred_liste['manhattan'] = (predict(res_manhattan, 4))\n",
    "y_pred_liste['euclidien'] = (predict(res_euclidien, 4))"
   ]
  },
  {
   "cell_type": "code",
   "execution_count": 26,
   "id": "0a643536",
   "metadata": {},
   "outputs": [
    {
     "name": "stdout",
     "output_type": "stream",
     "text": [
      "minkoswski : 0.8888888888888888\n",
      "manhattan : 0.8888888888888888\n",
      "euclidien : 0.7777777777777778\n"
     ]
    }
   ],
   "source": [
    "# affichage des résultats\n",
    "from sklearn.metrics import accuracy_score\n",
    "for nom, pred in zip(y_pred_liste.keys(), y_pred_liste.values()):\n",
    "    \n",
    "    score = accuracy_score(y_test, pred)\n",
    "    \n",
    "    print(f'{nom} : {score}')"
   ]
  },
  {
   "cell_type": "markdown",
   "id": "a99eddea",
   "metadata": {},
   "source": [
    "#### création de graphique pour la visualisation des différentes prédictions par rapport aux données réelles"
   ]
  },
  {
   "cell_type": "code",
   "execution_count": 27,
   "id": "06dc11a8",
   "metadata": {},
   "outputs": [
    {
     "data": {
      "image/png": "[encoded data removed]",
      "text/plain": [
       "<Figure size 1440x720 with 3 Axes>"
      ]
     },
     "metadata": {
      "needs_background": "light"
     },
     "output_type": "display_data"
    }
   ],
   "source": [
    "plt.figure(figsize=(20,10))\n",
    "\n",
    "plt.subplot(1,3,1)\n",
    "plt.plot(predict(res_minkoswki, 4), label=\"minkowski\")\n",
    "plt.plot(np.array(y_test), label=\"valeurs réelles\")\n",
    "plt.legend()\n",
    "\n",
    "plt.subplot(2,3,2)\n",
    "plt.plot(predict(res_manhattan, 4), label = \"manhattan\")\n",
    "plt.plot(np.array(y_test), label=\"valeurs réelles\")\n",
    "plt.legend()\n",
    "\n",
    "plt.subplot(2,3,3)\n",
    "plt.plot(predict(res_euclidien, 4), label=\"euclidien\")\n",
    "plt.plot(np.array(y_test), label=\"valeurs réelles\")\n",
    "plt.legend()\n",
    "\n",
    "plt.savefig('scratch.png')\n",
    "plt.show()"
   ]
  },
  {
   "cell_type": "markdown",
   "id": "25a0391b",
   "metadata": {},
   "source": [
    "# <center>KNN from Sklearn</center>"
   ]
  },
  {
   "cell_type": "markdown",
   "id": "18469906",
   "metadata": {},
   "source": [
    "import des bibliothèques"
   ]
  },
  {
   "cell_type": "code",
   "execution_count": 28,
   "id": "5ef73c55",
   "metadata": {},
   "outputs": [],
   "source": [
    "from sklearn.neighbors import KNeighborsClassifier"
   ]
  },
  {
   "cell_type": "code",
   "execution_count": 29,
   "id": "b114f536",
   "metadata": {},
   "outputs": [],
   "source": [
    "from sklearn.model_selection import GridSearchCV"
   ]
  },
  {
   "cell_type": "markdown",
   "id": "6682f256",
   "metadata": {},
   "source": [
    "#### création des paramètres pour gridSearchCv"
   ]
  },
  {
   "cell_type": "code",
   "execution_count": 30,
   "id": "491ab9e8",
   "metadata": {},
   "outputs": [],
   "source": [
    "# création d'une liste de différentes valeurs de k\n",
    "k_range = list(range(1, 15))\n",
    "\n",
    "# mettre ces paramètres dans un dictionnaire à faire passer dans gridSearchCv\n",
    "param_grid = dict(n_neighbors=k_range)\n",
    "\n",
    "# ajout d'une ligne avec différentes valeurs de p dans le dictionnaire\n",
    "param_grid['p'] = [1, 2, 3]"
   ]
  },
  {
   "cell_type": "markdown",
   "id": "a336a28a",
   "metadata": {},
   "source": [
    "#### création d'un modèle Knn"
   ]
  },
  {
   "cell_type": "code",
   "execution_count": 31,
   "id": "1bcd26c4",
   "metadata": {},
   "outputs": [],
   "source": [
    "clf2 = KNeighborsClassifier()"
   ]
  },
  {
   "cell_type": "markdown",
   "id": "f6186535",
   "metadata": {},
   "source": [
    "#### recherche des meilleurs paramètres en fonction du dictionnaire passé"
   ]
  },
  {
   "cell_type": "code",
   "execution_count": 32,
   "id": "c92e6f09",
   "metadata": {},
   "outputs": [],
   "source": [
    "grid = GridSearchCV(clf2, param_grid, cv=5, scoring='accuracy', return_train_score=False,verbose=1)"
   ]
  },
  {
   "cell_type": "code",
   "execution_count": 33,
   "id": "7b3784c9",
   "metadata": {},
   "outputs": [
    {
     "name": "stdout",
     "output_type": "stream",
     "text": [
      "Fitting 5 folds for each of 42 candidates, totalling 210 fits\n"
     ]
    }
   ],
   "source": [
    "grid_search = grid.fit(X_train, y_train)"
   ]
  },
  {
   "cell_type": "code",
   "execution_count": 42,
   "id": "09cfc81b",
   "metadata": {},
   "outputs": [
    {
     "name": "stdout",
     "output_type": "stream",
     "text": [
      "{'n_neighbors': 4, 'p': 1}\n"
     ]
    }
   ],
   "source": [
    "# voir les meilleurs paramètres\n",
    "print(grid_search.best_params_)"
   ]
  },
  {
   "cell_type": "code",
   "execution_count": 43,
   "id": "05781549",
   "metadata": {},
   "outputs": [
    {
     "data": {
      "text/plain": [
       "0.8095238095238095"
      ]
     },
     "execution_count": 43,
     "metadata": {},
     "output_type": "execute_result"
    }
   ],
   "source": [
    "# visualiser l'accuracy \n",
    "accuracy = grid_search.best_score_ \n",
    "accuracy"
   ]
  },
  {
   "cell_type": "markdown",
   "id": "44ed02bb",
   "metadata": {},
   "source": [
    "#### création du modèle avec les bons paramètres"
   ]
  },
  {
   "cell_type": "code",
   "execution_count": 36,
   "id": "1daf0558",
   "metadata": {},
   "outputs": [],
   "source": [
    "clf_def = KNeighborsClassifier(n_neighbors=4, p=1)"
   ]
  },
  {
   "cell_type": "code",
   "execution_count": 37,
   "id": "75189e5e",
   "metadata": {},
   "outputs": [
    {
     "data": {
      "text/plain": [
       "KNeighborsClassifier(n_neighbors=4, p=1)"
      ]
     },
     "execution_count": 37,
     "metadata": {},
     "output_type": "execute_result"
    }
   ],
   "source": [
    "clf_def.fit(X_test, y_test)"
   ]
  },
  {
   "cell_type": "code",
   "execution_count": 38,
   "id": "60adac7b",
   "metadata": {},
   "outputs": [
    {
     "data": {
      "text/plain": [
       "0.7777777777777778"
      ]
     },
     "execution_count": 38,
     "metadata": {},
     "output_type": "execute_result"
    }
   ],
   "source": [
    "clf_def.score(X_test, y_test)"
   ]
  },
  {
   "cell_type": "markdown",
   "id": "0ee95f6c",
   "metadata": {},
   "source": [
    "# exportation du modèle créé"
   ]
  },
  {
   "cell_type": "code",
   "execution_count": 41,
   "id": "9b9803b0",
   "metadata": {},
   "outputs": [
    {
     "data": {
      "text/plain": [
       "['regression_model_saved.joblib']"
      ]
     },
     "execution_count": 41,
     "metadata": {},
     "output_type": "execute_result"
    }
   ],
   "source": [
    "from joblib import dump\n",
    "\n",
    "dump(clf_def, 'regression_model_saved.joblib')"
   ]
  },
  {
   "cell_type": "markdown",
   "id": "6a3f08d6",
   "metadata": {},
   "source": [
    "> <h1>la suite se passe en exécutant le fichier run.py !</h1>"
   ]
  }
 ],
 "metadata": {
  "kernelspec": {
   "display_name": "Python 3 (ipykernel)",
   "language": "python",
   "name": "python3"
  },
  "language_info": {
   "codemirror_mode": {
    "name": "ipython",
    "version": 3
   },
   "file_extension": ".py",
   "mimetype": "text/x-python",
   "name": "python",
   "nbconvert_exporter": "python",
   "pygments_lexer": "ipython3",
   "version": "3.9.7"
  }
 },
 "nbformat": 4,
 "nbformat_minor": 5
}
