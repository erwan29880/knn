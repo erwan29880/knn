{
 "cells": [
  {
   "cell_type": "markdown",
   "id": "dd1e87ce",
   "metadata": {},
   "source": [
    "# <center>Partie 1 : Base de données, Analyse, Prétraitement et Préparation</center>"
   ]
  },
  {
   "cell_type": "markdown",
   "id": "467b518f",
   "metadata": {},
   "source": [
    "## traitement des fichiers csv"
   ]
  },
  {
   "cell_type": "markdown",
   "id": "6e3a304c",
   "metadata": {},
   "source": [
    "> le traitement initial des fichiers est fait dans le fichier 'import_fichiers'"
   ]
  },
  {
   "cell_type": "markdown",
   "id": "05ec8e3e",
   "metadata": {},
   "source": [
    "## traitement de données"
   ]
  },
  {
   "cell_type": "markdown",
   "id": "a9bf269a",
   "metadata": {},
   "source": [
    "### importer les bibliothèques de base, les autres seront importées au fur et à mesure"
   ]
  },
  {
   "cell_type": "code",
   "execution_count": 1,
   "id": "3ff3ca36",
   "metadata": {},
   "outputs": [],
   "source": [
    "import os\n",
    "import pandas as pd\n",
    "import numpy as np\n",
    "import matplotlib.pyplot as plt"
   ]
  },
  {
   "cell_type": "markdown",
   "id": "3105cf80",
   "metadata": {},
   "source": [
    "#### import du fichier csv"
   ]
  },
  {
   "cell_type": "code",
   "execution_count": 2,
   "id": "046db124",
   "metadata": {},
   "outputs": [],
   "source": [
    "data = pd.read_csv('data.csv')"
   ]
  },
  {
   "cell_type": "markdown",
   "id": "99761507",
   "metadata": {},
   "source": [
    "#### premières visualisations du jeu de données"
   ]
  },
  {
   "cell_type": "code",
   "execution_count": 3,
   "id": "76b33fb1",
   "metadata": {},
   "outputs": [
    {
     "data": {
      "text/html": [
       "<div>\n",
       "<style scoped>\n",
       "    .dataframe tbody tr th:only-of-type {\n",
       "        vertical-align: middle;\n",
       "    }\n",
       "\n",
       "    .dataframe tbody tr th {\n",
       "        vertical-align: top;\n",
       "    }\n",
       "\n",
       "    .dataframe thead th {\n",
       "        text-align: right;\n",
       "    }\n",
       "</style>\n",
       "<table border=\"1\" class=\"dataframe\">\n",
       "  <thead>\n",
       "    <tr style=\"text-align: right;\">\n",
       "      <th></th>\n",
       "      <th>Q1</th>\n",
       "      <th>Q2</th>\n",
       "      <th>Q3</th>\n",
       "      <th>Q4</th>\n",
       "      <th>Q5</th>\n",
       "      <th>Q6</th>\n",
       "      <th>Q7</th>\n",
       "      <th>Q8</th>\n",
       "      <th>Q9</th>\n",
       "      <th>Q10</th>\n",
       "      <th>Score</th>\n",
       "      <th>Interpretation</th>\n",
       "    </tr>\n",
       "  </thead>\n",
       "  <tbody>\n",
       "    <tr>\n",
       "      <th>0</th>\n",
       "      <td>a</td>\n",
       "      <td>a</td>\n",
       "      <td>a</td>\n",
       "      <td>a</td>\n",
       "      <td>a</td>\n",
       "      <td>1</td>\n",
       "      <td>1</td>\n",
       "      <td>1</td>\n",
       "      <td>1</td>\n",
       "      <td>1</td>\n",
       "      <td>10</td>\n",
       "      <td>B</td>\n",
       "    </tr>\n",
       "    <tr>\n",
       "      <th>1</th>\n",
       "      <td>b</td>\n",
       "      <td>b</td>\n",
       "      <td>b</td>\n",
       "      <td>b</td>\n",
       "      <td>b</td>\n",
       "      <td>2</td>\n",
       "      <td>2</td>\n",
       "      <td>2</td>\n",
       "      <td>2</td>\n",
       "      <td>2</td>\n",
       "      <td>0</td>\n",
       "      <td>C</td>\n",
       "    </tr>\n",
       "    <tr>\n",
       "      <th>2</th>\n",
       "      <td>c</td>\n",
       "      <td>c</td>\n",
       "      <td>c</td>\n",
       "      <td>c</td>\n",
       "      <td>c</td>\n",
       "      <td>3</td>\n",
       "      <td>3</td>\n",
       "      <td>3</td>\n",
       "      <td>3</td>\n",
       "      <td>3</td>\n",
       "      <td>20</td>\n",
       "      <td>A</td>\n",
       "    </tr>\n",
       "    <tr>\n",
       "      <th>3</th>\n",
       "      <td>a</td>\n",
       "      <td>b</td>\n",
       "      <td>c</td>\n",
       "      <td>a</td>\n",
       "      <td>b</td>\n",
       "      <td>1</td>\n",
       "      <td>2</td>\n",
       "      <td>3</td>\n",
       "      <td>1</td>\n",
       "      <td>2</td>\n",
       "      <td>8</td>\n",
       "      <td>C</td>\n",
       "    </tr>\n",
       "    <tr>\n",
       "      <th>4</th>\n",
       "      <td>b</td>\n",
       "      <td>c</td>\n",
       "      <td>a</td>\n",
       "      <td>c</td>\n",
       "      <td>a</td>\n",
       "      <td>3</td>\n",
       "      <td>2</td>\n",
       "      <td>3</td>\n",
       "      <td>1</td>\n",
       "      <td>2</td>\n",
       "      <td>11</td>\n",
       "      <td>B</td>\n",
       "    </tr>\n",
       "  </tbody>\n",
       "</table>\n",
       "</div>"
      ],
      "text/plain": [
       "  Q1 Q2 Q3 Q4 Q5 Q6 Q7 Q8 Q9 Q10  Score Interpretation\n",
       "0  a  a  a  a  a  1  1  1  1   1     10              B\n",
       "1  b  b  b  b  b  2  2  2  2   2      0              C\n",
       "2  c  c  c  c  c  3  3  3  3   3     20              A\n",
       "3  a  b  c  a  b  1  2  3  1   2      8              C\n",
       "4  b  c  a  c  a  3  2  3  1   2     11              B"
      ]
     },
     "execution_count": 3,
     "metadata": {},
     "output_type": "execute_result"
    }
   ],
   "source": [
    "data.head()"
   ]
  },
  {
   "cell_type": "code",
   "execution_count": 4,
   "id": "363e6bbd",
   "metadata": {},
   "outputs": [
    {
     "name": "stdout",
     "output_type": "stream",
     "text": [
      "<class 'pandas.core.frame.DataFrame'>\n",
      "RangeIndex: 225 entries, 0 to 224\n",
      "Data columns (total 12 columns):\n",
      " #   Column          Non-Null Count  Dtype \n",
      "---  ------          --------------  ----- \n",
      " 0   Q1              217 non-null    object\n",
      " 1   Q2              213 non-null    object\n",
      " 2   Q3              212 non-null    object\n",
      " 3   Q4              215 non-null    object\n",
      " 4   Q5              211 non-null    object\n",
      " 5   Q6              213 non-null    object\n",
      " 6   Q7              215 non-null    object\n",
      " 7   Q8              213 non-null    object\n",
      " 8   Q9              215 non-null    object\n",
      " 9   Q10             217 non-null    object\n",
      " 10  Score           225 non-null    int64 \n",
      " 11  Interpretation  225 non-null    object\n",
      "dtypes: int64(1), object(11)\n",
      "memory usage: 21.2+ KB\n"
     ]
    }
   ],
   "source": [
    "data.info()"
   ]
  },
  {
   "cell_type": "code",
   "execution_count": 5,
   "id": "5860eddb",
   "metadata": {},
   "outputs": [],
   "source": [
    "df = data.copy()"
   ]
  },
  {
   "cell_type": "markdown",
   "id": "a97a5bd1",
   "metadata": {},
   "source": [
    "#### Traitement des données non numériques\n",
    "> remplacement des valeurs non-souhaitées par des 'Nan'"
   ]
  },
  {
   "cell_type": "code",
   "execution_count": 6,
   "id": "f5926c4d",
   "metadata": {},
   "outputs": [],
   "source": [
    "# remplacer les caractères a,b,c par des 1, 2, 3, les autres sont automatiquement convertis en nan \n",
    "\n",
    "df = df.drop('Score', axis=1)\n",
    "\n",
    "caracteres_rempla_abc = {\n",
    "    'a':0,\n",
    "    'b':1,\n",
    "    'c':2,\n",
    "    'A':0,\n",
    "    'B':1,\n",
    "    'C':2,\n",
    "    '1':1,\n",
    "    '2':2,\n",
    "    '3':3\n",
    "}\n",
    "for colonne in range(df.shape[1]):\n",
    "    \n",
    "    df.iloc[:,colonne] = df.iloc[:,colonne].map(caracteres_rempla_abc)\n",
    "\n",
    "\n",
    "    "
   ]
  },
  {
   "cell_type": "code",
   "execution_count": 7,
   "id": "03866a1e",
   "metadata": {},
   "outputs": [
    {
     "data": {
      "text/plain": [
       "Q1                float64\n",
       "Q2                float64\n",
       "Q3                float64\n",
       "Q4                float64\n",
       "Q5                float64\n",
       "Q6                float64\n",
       "Q7                float64\n",
       "Q8                float64\n",
       "Q9                float64\n",
       "Q10               float64\n",
       "Interpretation      int64\n",
       "dtype: object"
      ]
     },
     "execution_count": 7,
     "metadata": {},
     "output_type": "execute_result"
    }
   ],
   "source": [
    "# vérification du type des données\n",
    "df.dtypes"
   ]
  },
  {
   "cell_type": "markdown",
   "id": "4a8477d1",
   "metadata": {},
   "source": [
    "vérification"
   ]
  },
  {
   "cell_type": "code",
   "execution_count": 8,
   "id": "af6a40e8",
   "metadata": {},
   "outputs": [
    {
     "data": {
      "text/html": [
       "<div>\n",
       "<style scoped>\n",
       "    .dataframe tbody tr th:only-of-type {\n",
       "        vertical-align: middle;\n",
       "    }\n",
       "\n",
       "    .dataframe tbody tr th {\n",
       "        vertical-align: top;\n",
       "    }\n",
       "\n",
       "    .dataframe thead th {\n",
       "        text-align: right;\n",
       "    }\n",
       "</style>\n",
       "<table border=\"1\" class=\"dataframe\">\n",
       "  <thead>\n",
       "    <tr style=\"text-align: right;\">\n",
       "      <th></th>\n",
       "      <th>Q1</th>\n",
       "      <th>Q2</th>\n",
       "      <th>Q3</th>\n",
       "      <th>Q4</th>\n",
       "      <th>Q5</th>\n",
       "      <th>Q6</th>\n",
       "      <th>Q7</th>\n",
       "      <th>Q8</th>\n",
       "      <th>Q9</th>\n",
       "      <th>Q10</th>\n",
       "      <th>Interpretation</th>\n",
       "    </tr>\n",
       "  </thead>\n",
       "  <tbody>\n",
       "    <tr>\n",
       "      <th>0</th>\n",
       "      <td>0.0</td>\n",
       "      <td>0.0</td>\n",
       "      <td>0.0</td>\n",
       "      <td>0.0</td>\n",
       "      <td>0.0</td>\n",
       "      <td>1.0</td>\n",
       "      <td>1.0</td>\n",
       "      <td>1.0</td>\n",
       "      <td>1.0</td>\n",
       "      <td>1.0</td>\n",
       "      <td>1</td>\n",
       "    </tr>\n",
       "    <tr>\n",
       "      <th>1</th>\n",
       "      <td>1.0</td>\n",
       "      <td>1.0</td>\n",
       "      <td>1.0</td>\n",
       "      <td>1.0</td>\n",
       "      <td>1.0</td>\n",
       "      <td>2.0</td>\n",
       "      <td>2.0</td>\n",
       "      <td>2.0</td>\n",
       "      <td>2.0</td>\n",
       "      <td>2.0</td>\n",
       "      <td>2</td>\n",
       "    </tr>\n",
       "    <tr>\n",
       "      <th>2</th>\n",
       "      <td>2.0</td>\n",
       "      <td>2.0</td>\n",
       "      <td>2.0</td>\n",
       "      <td>2.0</td>\n",
       "      <td>2.0</td>\n",
       "      <td>3.0</td>\n",
       "      <td>3.0</td>\n",
       "      <td>3.0</td>\n",
       "      <td>3.0</td>\n",
       "      <td>3.0</td>\n",
       "      <td>0</td>\n",
       "    </tr>\n",
       "    <tr>\n",
       "      <th>3</th>\n",
       "      <td>0.0</td>\n",
       "      <td>1.0</td>\n",
       "      <td>2.0</td>\n",
       "      <td>0.0</td>\n",
       "      <td>1.0</td>\n",
       "      <td>1.0</td>\n",
       "      <td>2.0</td>\n",
       "      <td>3.0</td>\n",
       "      <td>1.0</td>\n",
       "      <td>2.0</td>\n",
       "      <td>2</td>\n",
       "    </tr>\n",
       "    <tr>\n",
       "      <th>4</th>\n",
       "      <td>1.0</td>\n",
       "      <td>2.0</td>\n",
       "      <td>0.0</td>\n",
       "      <td>2.0</td>\n",
       "      <td>0.0</td>\n",
       "      <td>3.0</td>\n",
       "      <td>2.0</td>\n",
       "      <td>3.0</td>\n",
       "      <td>1.0</td>\n",
       "      <td>2.0</td>\n",
       "      <td>1</td>\n",
       "    </tr>\n",
       "  </tbody>\n",
       "</table>\n",
       "</div>"
      ],
      "text/plain": [
       "    Q1   Q2   Q3   Q4   Q5   Q6   Q7   Q8   Q9  Q10  Interpretation\n",
       "0  0.0  0.0  0.0  0.0  0.0  1.0  1.0  1.0  1.0  1.0               1\n",
       "1  1.0  1.0  1.0  1.0  1.0  2.0  2.0  2.0  2.0  2.0               2\n",
       "2  2.0  2.0  2.0  2.0  2.0  3.0  3.0  3.0  3.0  3.0               0\n",
       "3  0.0  1.0  2.0  0.0  1.0  1.0  2.0  3.0  1.0  2.0               2\n",
       "4  1.0  2.0  0.0  2.0  0.0  3.0  2.0  3.0  1.0  2.0               1"
      ]
     },
     "execution_count": 8,
     "metadata": {},
     "output_type": "execute_result"
    }
   ],
   "source": [
    "# visualisation du jeu de données pour vérifier la transformation\n",
    "df.head()"
   ]
  },
  {
   "cell_type": "markdown",
   "id": "dee4546f",
   "metadata": {},
   "source": [
    "##### choix de suppression des NaN, par rapport au remplacement"
   ]
  },
  {
   "cell_type": "code",
   "execution_count": 27,
   "id": "d81266c8",
   "metadata": {},
   "outputs": [],
   "source": [
    "for i in range(df.shape[1]):\n",
    "#     res = df.iloc[:,i].mode()\n",
    "    df.iloc[:,i].fillna(df.iloc[:,i].mode()[0], inplace=True)\n",
    "    "
   ]
  },
  {
   "cell_type": "code",
   "execution_count": 28,
   "id": "bc5e1bef",
   "metadata": {},
   "outputs": [
    {
     "data": {
      "text/html": [
       "<div>\n",
       "<style scoped>\n",
       "    .dataframe tbody tr th:only-of-type {\n",
       "        vertical-align: middle;\n",
       "    }\n",
       "\n",
       "    .dataframe tbody tr th {\n",
       "        vertical-align: top;\n",
       "    }\n",
       "\n",
       "    .dataframe thead th {\n",
       "        text-align: right;\n",
       "    }\n",
       "</style>\n",
       "<table border=\"1\" class=\"dataframe\">\n",
       "  <thead>\n",
       "    <tr style=\"text-align: right;\">\n",
       "      <th></th>\n",
       "      <th>Q1</th>\n",
       "      <th>Q2</th>\n",
       "      <th>Q3</th>\n",
       "      <th>Q4</th>\n",
       "      <th>Q5</th>\n",
       "      <th>Q6</th>\n",
       "      <th>Q7</th>\n",
       "      <th>Q8</th>\n",
       "      <th>Q9</th>\n",
       "      <th>Q10</th>\n",
       "      <th>Interpretation</th>\n",
       "    </tr>\n",
       "  </thead>\n",
       "  <tbody>\n",
       "    <tr>\n",
       "      <th>0</th>\n",
       "      <td>0.0</td>\n",
       "      <td>0.0</td>\n",
       "      <td>0.0</td>\n",
       "      <td>0.0</td>\n",
       "      <td>0.0</td>\n",
       "      <td>1.0</td>\n",
       "      <td>1.0</td>\n",
       "      <td>1.0</td>\n",
       "      <td>1.0</td>\n",
       "      <td>1.0</td>\n",
       "      <td>1</td>\n",
       "    </tr>\n",
       "    <tr>\n",
       "      <th>1</th>\n",
       "      <td>1.0</td>\n",
       "      <td>1.0</td>\n",
       "      <td>1.0</td>\n",
       "      <td>1.0</td>\n",
       "      <td>1.0</td>\n",
       "      <td>2.0</td>\n",
       "      <td>2.0</td>\n",
       "      <td>2.0</td>\n",
       "      <td>2.0</td>\n",
       "      <td>2.0</td>\n",
       "      <td>2</td>\n",
       "    </tr>\n",
       "    <tr>\n",
       "      <th>2</th>\n",
       "      <td>2.0</td>\n",
       "      <td>2.0</td>\n",
       "      <td>2.0</td>\n",
       "      <td>2.0</td>\n",
       "      <td>2.0</td>\n",
       "      <td>3.0</td>\n",
       "      <td>3.0</td>\n",
       "      <td>3.0</td>\n",
       "      <td>3.0</td>\n",
       "      <td>3.0</td>\n",
       "      <td>0</td>\n",
       "    </tr>\n",
       "    <tr>\n",
       "      <th>3</th>\n",
       "      <td>0.0</td>\n",
       "      <td>1.0</td>\n",
       "      <td>2.0</td>\n",
       "      <td>0.0</td>\n",
       "      <td>1.0</td>\n",
       "      <td>1.0</td>\n",
       "      <td>2.0</td>\n",
       "      <td>3.0</td>\n",
       "      <td>1.0</td>\n",
       "      <td>2.0</td>\n",
       "      <td>2</td>\n",
       "    </tr>\n",
       "    <tr>\n",
       "      <th>4</th>\n",
       "      <td>1.0</td>\n",
       "      <td>2.0</td>\n",
       "      <td>0.0</td>\n",
       "      <td>2.0</td>\n",
       "      <td>0.0</td>\n",
       "      <td>3.0</td>\n",
       "      <td>2.0</td>\n",
       "      <td>3.0</td>\n",
       "      <td>1.0</td>\n",
       "      <td>2.0</td>\n",
       "      <td>1</td>\n",
       "    </tr>\n",
       "  </tbody>\n",
       "</table>\n",
       "</div>"
      ],
      "text/plain": [
       "    Q1   Q2   Q3   Q4   Q5   Q6   Q7   Q8   Q9  Q10  Interpretation\n",
       "0  0.0  0.0  0.0  0.0  0.0  1.0  1.0  1.0  1.0  1.0               1\n",
       "1  1.0  1.0  1.0  1.0  1.0  2.0  2.0  2.0  2.0  2.0               2\n",
       "2  2.0  2.0  2.0  2.0  2.0  3.0  3.0  3.0  3.0  3.0               0\n",
       "3  0.0  1.0  2.0  0.0  1.0  1.0  2.0  3.0  1.0  2.0               2\n",
       "4  1.0  2.0  0.0  2.0  0.0  3.0  2.0  3.0  1.0  2.0               1"
      ]
     },
     "execution_count": 28,
     "metadata": {},
     "output_type": "execute_result"
    }
   ],
   "source": [
    "df.head()"
   ]
  },
  {
   "cell_type": "code",
   "execution_count": 29,
   "id": "34002d9f",
   "metadata": {},
   "outputs": [
    {
     "data": {
      "text/plain": [
       "(225, 11)"
      ]
     },
     "execution_count": 29,
     "metadata": {},
     "output_type": "execute_result"
    }
   ],
   "source": [
    "df.shape"
   ]
  },
  {
   "cell_type": "code",
   "execution_count": 30,
   "id": "9b64e264",
   "metadata": {},
   "outputs": [
    {
     "data": {
      "text/plain": [
       "Q1                0\n",
       "Q2                0\n",
       "Q3                0\n",
       "Q4                0\n",
       "Q5                0\n",
       "Q6                0\n",
       "Q7                0\n",
       "Q8                0\n",
       "Q9                0\n",
       "Q10               0\n",
       "Interpretation    0\n",
       "dtype: int64"
      ]
     },
     "execution_count": 30,
     "metadata": {},
     "output_type": "execute_result"
    }
   ],
   "source": [
    "df.isna().sum()"
   ]
  },
  {
   "cell_type": "markdown",
   "id": "e6b2d721",
   "metadata": {},
   "source": [
    "#### écartement des colonnes 'score' et 'interprétation' pour créer le jeu de données des features "
   ]
  },
  {
   "cell_type": "code",
   "execution_count": 31,
   "id": "c36d0437",
   "metadata": {},
   "outputs": [],
   "source": [
    "X = df.drop(columns=['Interpretation'], axis=1)"
   ]
  },
  {
   "cell_type": "markdown",
   "id": "8cc6f586",
   "metadata": {},
   "source": [
    "#### choix  : prédire le score ; l'interprétation est écartée du jeu de données"
   ]
  },
  {
   "cell_type": "code",
   "execution_count": 32,
   "id": "dbc6535b",
   "metadata": {},
   "outputs": [],
   "source": [
    "y = df['Interpretation']"
   ]
  },
  {
   "cell_type": "markdown",
   "id": "8a1e28a5",
   "metadata": {},
   "source": [
    "#### séparation du jeu de données en donnée de test et d'entrainement"
   ]
  },
  {
   "cell_type": "code",
   "execution_count": 34,
   "id": "5e59f239",
   "metadata": {},
   "outputs": [],
   "source": [
    "from sklearn.model_selection import train_test_split\n",
    "\n",
    "X_train, X_test, y_train, y_test = train_test_split(X,y, test_size=0.2, random_state=2)"
   ]
  },
  {
   "cell_type": "markdown",
   "id": "25a0391b",
   "metadata": {},
   "source": [
    "# <center>KNN from Sklearn</center>"
   ]
  },
  {
   "cell_type": "markdown",
   "id": "ce7c01ed",
   "metadata": {},
   "source": [
    "import des bibliothèques"
   ]
  },
  {
   "cell_type": "code",
   "execution_count": 35,
   "id": "5ef73c55",
   "metadata": {},
   "outputs": [],
   "source": [
    "from sklearn.neighbors import KNeighborsClassifier"
   ]
  },
  {
   "cell_type": "code",
   "execution_count": 36,
   "id": "b114f536",
   "metadata": {},
   "outputs": [],
   "source": [
    "from sklearn.model_selection import GridSearchCV"
   ]
  },
  {
   "cell_type": "markdown",
   "id": "6682f256",
   "metadata": {},
   "source": [
    "#### création des paramètres pour gridSearchCv"
   ]
  },
  {
   "cell_type": "code",
   "execution_count": 37,
   "id": "491ab9e8",
   "metadata": {},
   "outputs": [],
   "source": [
    "# création d'une liste de différentes valeurs de k\n",
    "k_range = list(range(1, 15))\n",
    "\n",
    "# mettre ces paramètres dans un dictionnaire à faire passer dans gridSearchCv\n",
    "param_grid = dict(n_neighbors=k_range)\n",
    "\n",
    "# ajout d'une ligne avec différentes valeurs de p dans le dictionnaire\n",
    "param_grid['p'] = [1, 2, 3]"
   ]
  },
  {
   "cell_type": "markdown",
   "id": "225ae32a",
   "metadata": {},
   "source": [
    "#### création d'un modèle Knn"
   ]
  },
  {
   "cell_type": "code",
   "execution_count": 38,
   "id": "1bcd26c4",
   "metadata": {},
   "outputs": [],
   "source": [
    "clf2 = KNeighborsClassifier()"
   ]
  },
  {
   "cell_type": "markdown",
   "id": "ec43b913",
   "metadata": {},
   "source": [
    "#### recherche des meilleurs paramètres en fonction du dictionnaire passé"
   ]
  },
  {
   "cell_type": "code",
   "execution_count": 39,
   "id": "c92e6f09",
   "metadata": {},
   "outputs": [],
   "source": [
    "grid = GridSearchCV(clf2, param_grid, cv=5, scoring='accuracy', return_train_score=False,verbose=1)"
   ]
  },
  {
   "cell_type": "code",
   "execution_count": 40,
   "id": "7b3784c9",
   "metadata": {},
   "outputs": [
    {
     "name": "stdout",
     "output_type": "stream",
     "text": [
      "Fitting 5 folds for each of 42 candidates, totalling 210 fits\n"
     ]
    }
   ],
   "source": [
    "grid_search = grid.fit(X_train, y_train)"
   ]
  },
  {
   "cell_type": "code",
   "execution_count": 41,
   "id": "09cfc81b",
   "metadata": {},
   "outputs": [
    {
     "name": "stdout",
     "output_type": "stream",
     "text": [
      "{'n_neighbors': 3, 'p': 1}\n"
     ]
    }
   ],
   "source": [
    "# voir les meilleurs paramètres\n",
    "print(grid_search.best_params_)"
   ]
  },
  {
   "cell_type": "code",
   "execution_count": 42,
   "id": "05781549",
   "metadata": {},
   "outputs": [
    {
     "data": {
      "text/plain": [
       "0.75"
      ]
     },
     "execution_count": 42,
     "metadata": {},
     "output_type": "execute_result"
    }
   ],
   "source": [
    "# visualiser l'accuracy \n",
    "accuracy = grid_search.best_score_ \n",
    "accuracy"
   ]
  },
  {
   "cell_type": "markdown",
   "id": "6f53d000",
   "metadata": {},
   "source": [
    "#### création du modèle avec les bons paramètres"
   ]
  },
  {
   "cell_type": "code",
   "execution_count": 43,
   "id": "1daf0558",
   "metadata": {},
   "outputs": [],
   "source": [
    "clf_def = KNeighborsClassifier(n_neighbors=4, p=1)"
   ]
  },
  {
   "cell_type": "code",
   "execution_count": 44,
   "id": "75189e5e",
   "metadata": {},
   "outputs": [
    {
     "data": {
      "text/plain": [
       "KNeighborsClassifier(n_neighbors=4, p=1)"
      ]
     },
     "execution_count": 44,
     "metadata": {},
     "output_type": "execute_result"
    }
   ],
   "source": [
    "clf_def.fit(X_test, y_test)"
   ]
  },
  {
   "cell_type": "code",
   "execution_count": 45,
   "id": "60adac7b",
   "metadata": {},
   "outputs": [
    {
     "data": {
      "text/plain": [
       "0.7111111111111111"
      ]
     },
     "execution_count": 45,
     "metadata": {},
     "output_type": "execute_result"
    }
   ],
   "source": [
    "clf_def.score(X_test, y_test)"
   ]
  },
  {
   "cell_type": "markdown",
   "id": "d76d3b24",
   "metadata": {},
   "source": [
    "# exportation du modèle créé"
   ]
  },
  {
   "cell_type": "code",
   "execution_count": 46,
   "id": "1f6282d8",
   "metadata": {},
   "outputs": [],
   "source": [
    "# from joblib import dump\n",
    "\n",
    "# dump(clf_def, 'regression_model_saved.joblib')"
   ]
  },
  {
   "cell_type": "markdown",
   "id": "7305daf3",
   "metadata": {},
   "source": [
    "> <h1>la suite se passe en exécutant le fichier run.py !</h1>"
   ]
  },
  {
   "cell_type": "code",
   "execution_count": null,
   "id": "76c48752",
   "metadata": {},
   "outputs": [],
   "source": []
  }
 ],
 "metadata": {
  "kernelspec": {
   "display_name": "Python 3 (ipykernel)",
   "language": "python",
   "name": "python3"
  },
  "language_info": {
   "codemirror_mode": {
    "name": "ipython",
    "version": 3
   },
   "file_extension": ".py",
   "mimetype": "text/x-python",
   "name": "python",
   "nbconvert_exporter": "python",
   "pygments_lexer": "ipython3",
   "version": "3.9.7"
  }
 },
 "nbformat": 4,
 "nbformat_minor": 5
}
